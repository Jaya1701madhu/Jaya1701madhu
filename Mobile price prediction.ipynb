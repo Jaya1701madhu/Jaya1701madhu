{
 "cells": [
  {
   "cell_type": "code",
   "execution_count": 1,
   "id": "7e67e560",
   "metadata": {},
   "outputs": [],
   "source": [
    "# IMPRTING LIBRARIES"
   ]
  },
  {
   "cell_type": "code",
   "execution_count": null,
   "id": "a29366fb",
   "metadata": {},
   "outputs": [],
   "source": [
    "import pandas as pd\n",
    "from sklearn.model_selection import train_test_split\n",
    "from sklearn.linear_model import LinearRegression"
   ]
  },
  {
   "cell_type": "code",
   "execution_count": 2,
   "id": "4b350137",
   "metadata": {},
   "outputs": [],
   "source": [
    "from sklearn.model_selection import train_test_split"
   ]
  },
  {
   "cell_type": "code",
   "execution_count": null,
   "id": "17071229",
   "metadata": {},
   "outputs": [],
   "source": [
    "#READIN CSV FILE OF MOBILE THAT FILE CONTENTS MODEL NO AND PRICE"
   ]
  },
  {
   "cell_type": "code",
   "execution_count": 3,
   "id": "9f8db571",
   "metadata": {},
   "outputs": [],
   "source": [
    "data=pd.read_csv('mobile.csv')"
   ]
  },
  {
   "cell_type": "code",
   "execution_count": null,
   "id": "13f371d1",
   "metadata": {},
   "outputs": [],
   "source": [
    "# DATA"
   ]
  },
  {
   "cell_type": "code",
   "execution_count": 4,
   "id": "cfa568b9",
   "metadata": {},
   "outputs": [
    {
     "data": {
      "text/html": [
       "<div>\n",
       "<style scoped>\n",
       "    .dataframe tbody tr th:only-of-type {\n",
       "        vertical-align: middle;\n",
       "    }\n",
       "\n",
       "    .dataframe tbody tr th {\n",
       "        vertical-align: top;\n",
       "    }\n",
       "\n",
       "    .dataframe thead th {\n",
       "        text-align: right;\n",
       "    }\n",
       "</style>\n",
       "<table border=\"1\" class=\"dataframe\">\n",
       "  <thead>\n",
       "    <tr style=\"text-align: right;\">\n",
       "      <th></th>\n",
       "      <th>model</th>\n",
       "      <th>price</th>\n",
       "    </tr>\n",
       "  </thead>\n",
       "  <tbody>\n",
       "    <tr>\n",
       "      <th>0</th>\n",
       "      <td>7</td>\n",
       "      <td>4500</td>\n",
       "    </tr>\n",
       "    <tr>\n",
       "      <th>1</th>\n",
       "      <td>8</td>\n",
       "      <td>5000</td>\n",
       "    </tr>\n",
       "    <tr>\n",
       "      <th>2</th>\n",
       "      <td>9</td>\n",
       "      <td>7000</td>\n",
       "    </tr>\n",
       "    <tr>\n",
       "      <th>3</th>\n",
       "      <td>10</td>\n",
       "      <td>8000</td>\n",
       "    </tr>\n",
       "    <tr>\n",
       "      <th>4</th>\n",
       "      <td>11</td>\n",
       "      <td>85000</td>\n",
       "    </tr>\n",
       "    <tr>\n",
       "      <th>5</th>\n",
       "      <td>12</td>\n",
       "      <td>9000</td>\n",
       "    </tr>\n",
       "    <tr>\n",
       "      <th>6</th>\n",
       "      <td>13</td>\n",
       "      <td>100000</td>\n",
       "    </tr>\n",
       "    <tr>\n",
       "      <th>7</th>\n",
       "      <td>14</td>\n",
       "      <td>120000</td>\n",
       "    </tr>\n",
       "    <tr>\n",
       "      <th>8</th>\n",
       "      <td>15</td>\n",
       "      <td>135000</td>\n",
       "    </tr>\n",
       "    <tr>\n",
       "      <th>9</th>\n",
       "      <td>16</td>\n",
       "      <td>145000</td>\n",
       "    </tr>\n",
       "  </tbody>\n",
       "</table>\n",
       "</div>"
      ],
      "text/plain": [
       "   model   price\n",
       "0      7    4500\n",
       "1      8    5000\n",
       "2      9    7000\n",
       "3     10    8000\n",
       "4     11   85000\n",
       "5     12    9000\n",
       "6     13  100000\n",
       "7     14  120000\n",
       "8     15  135000\n",
       "9     16  145000"
      ]
     },
     "execution_count": 4,
     "metadata": {},
     "output_type": "execute_result"
    }
   ],
   "source": [
    "data"
   ]
  },
  {
   "cell_type": "code",
   "execution_count": null,
   "id": "a566a4a8",
   "metadata": {},
   "outputs": [],
   "source": [
    "# accesing particular columns"
   ]
  },
  {
   "cell_type": "code",
   "execution_count": 5,
   "id": "af77460f",
   "metadata": {},
   "outputs": [],
   "source": [
    "x=data['model'].values.reshape(-1, 1)  \n",
    "y=data['price'].values"
   ]
  },
  {
   "cell_type": "code",
   "execution_count": 6,
   "id": "2625136b",
   "metadata": {},
   "outputs": [
    {
     "data": {
      "text/plain": [
       "array([  4500,   5000,   7000,   8000,  85000,   9000, 100000, 120000,\n",
       "       135000, 145000], dtype=int64)"
      ]
     },
     "execution_count": 6,
     "metadata": {},
     "output_type": "execute_result"
    }
   ],
   "source": [
    "y"
   ]
  },
  {
   "cell_type": "code",
   "execution_count": null,
   "id": "75849e62",
   "metadata": {},
   "outputs": [],
   "source": [
    "#training"
   ]
  },
  {
   "cell_type": "raw",
   "id": "66a0b9be",
   "metadata": {},
   "source": []
  },
  {
   "cell_type": "code",
   "execution_count": 7,
   "id": "20d069e3",
   "metadata": {},
   "outputs": [],
   "source": [
    "x_train,x_test,y_train,y_test=train_test_split(x,y,test_size=0.2,random_state=42)"
   ]
  },
  {
   "cell_type": "code",
   "execution_count": 10,
   "id": "861e7843",
   "metadata": {},
   "outputs": [],
   "source": [
    "from sklearn.linear_model import LinearRegression"
   ]
  },
  {
   "cell_type": "code",
   "execution_count": 11,
   "id": "dc0f831f",
   "metadata": {},
   "outputs": [
    {
     "data": {
      "text/plain": [
       "array([[ 7],\n",
       "       [ 8],\n",
       "       [ 9],\n",
       "       [10],\n",
       "       [11],\n",
       "       [12],\n",
       "       [13],\n",
       "       [14],\n",
       "       [15],\n",
       "       [16]], dtype=int64)"
      ]
     },
     "execution_count": 11,
     "metadata": {},
     "output_type": "execute_result"
    }
   ],
   "source": [
    "x"
   ]
  },
  {
   "cell_type": "code",
   "execution_count": null,
   "id": "62566ac0",
   "metadata": {},
   "outputs": [],
   "source": [
    "#FITTING INTO THE MODEL"
   ]
  },
  {
   "cell_type": "code",
   "execution_count": 12,
   "id": "bc38f4d5",
   "metadata": {},
   "outputs": [
    {
     "data": {
      "text/plain": [
       "LinearRegression()"
      ]
     },
     "execution_count": 12,
     "metadata": {},
     "output_type": "execute_result"
    }
   ],
   "source": [
    "model=LinearRegression()\n",
    "model.fit(x_train,y_train)"
   ]
  },
  {
   "cell_type": "code",
   "execution_count": null,
   "id": "a9c2894a",
   "metadata": {},
   "outputs": [],
   "source": [
    "#PREDICTING THE PRICE"
   ]
  },
  {
   "cell_type": "code",
   "execution_count": 13,
   "id": "750e3580",
   "metadata": {},
   "outputs": [],
   "source": [
    "pred=model.predict([[20]])"
   ]
  },
  {
   "cell_type": "code",
   "execution_count": 14,
   "id": "1d86510a",
   "metadata": {},
   "outputs": [
    {
     "name": "stdout",
     "output_type": "stream",
     "text": [
      "The price of the iphone is  [208525.86206897] INR\n"
     ]
    }
   ],
   "source": [
    "print('The price of the iphone is ',pred,'INR')"
   ]
  },
  {
   "cell_type": "code",
   "execution_count": null,
   "id": "9d1e4687",
   "metadata": {},
   "outputs": [],
   "source": [
    "# CREATING GUI"
   ]
  },
  {
   "cell_type": "code",
   "execution_count": null,
   "id": "9936ae40",
   "metadata": {},
   "outputs": [],
   "source": [
    "import tkinter\n",
    "import joblib\n",
    "from tkinter import *\n",
    "import joblib\n",
    "from sklearn import *\n",
    "model=LinearRegression()\n",
    "model.fit(x,y)\n",
    "joblib.dump(model,'model_joblib_diabetes')\n",
    "from PIL import ImageTk,Image\n",
    "import PIL.Image\n",
    "import tkinter\n",
    "import joblib\n",
    "\n",
    "from tkinter import *\n",
    "import joblib\n",
    "from sklearn import *\n",
    "def Seee():\n",
    "    p1=float(e1.get())\n",
    "   \n",
    "    rf=joblib.load('model_joblib_diabetes')\n",
    "    r=rf.predict([[p1]])\n",
    "    if r>0:\n",
    "        lb1=Label(text=\"the price of mobile in INR\",font=('Arial',30,'bold')).grid(row=32,column=4)\n",
    "        lb2=Label(text=r,font=('Arial',30,'bold')).grid(row=33)\n",
    "    else:\n",
    "        \n",
    "        Label(text='enter correct vaLUES',font=('Arial',30,'bold')).grid(row=31)\n",
    "master=Tk()\n",
    "\n",
    "\n",
    "master.title('mobilr price prediction using ML')\n",
    "master.configure(bg='navyblue')\n",
    "master.maxsize(1500,1500)\n",
    "label=Label(master,text='mobile price prediction using ml',bg='blue',fg='white').grid(row=0,column=8,pady=50)\n",
    "Label(master,text='Enter the iphone model').grid(row=1,column=4,pady=2)\n",
    "\n",
    "e1=Entry(bg='cyan',fg='black')\n",
    "\n",
    "e1.grid(row=1, column=7)\n",
    "BTN=Button(text='predict price',bg='green',activebackground='blue',borderwidth=3,font=('Arial',15,'bold'),command=Seee)\n",
    "BTN.grid(row=22,column=21,pady=40)\n",
    "master.mainloop()\n"
   ]
  },
  {
   "cell_type": "code",
   "execution_count": null,
   "id": "0ed0e629",
   "metadata": {},
   "outputs": [],
   "source": []
  },
  {
   "cell_type": "code",
   "execution_count": null,
   "id": "67afbaeb",
   "metadata": {},
   "outputs": [],
   "source": []
  },
  {
   "cell_type": "code",
   "execution_count": null,
   "id": "08c7cac4",
   "metadata": {},
   "outputs": [],
   "source": []
  }
 ],
 "metadata": {
  "kernelspec": {
   "display_name": "Python 3 (ipykernel)",
   "language": "python",
   "name": "python3"
  },
  "language_info": {
   "codemirror_mode": {
    "name": "ipython",
    "version": 3
   },
   "file_extension": ".py",
   "mimetype": "text/x-python",
   "name": "python",
   "nbconvert_exporter": "python",
   "pygments_lexer": "ipython3",
   "version": "3.9.7"
  }
 },
 "nbformat": 4,
 "nbformat_minor": 5
}
